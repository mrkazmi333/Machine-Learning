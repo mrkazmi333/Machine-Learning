{
  "nbformat": 4,
  "nbformat_minor": 0,
  "metadata": {
    "colab": {
      "name": "ConvNeuralNetworks.ipynb",
      "version": "0.3.2",
      "provenance": [],
      "collapsed_sections": []
    },
    "kernelspec": {
      "name": "python3",
      "display_name": "Python 3"
    },
    "accelerator": "GPU"
  },
  "cells": [
    {
      "metadata": {
        "id": "nxyhuZzFRIQf",
        "colab_type": "code",
        "colab": {
          "base_uri": "https://localhost:8080/",
          "height": 122
        },
        "outputId": "92797414-183b-4b61-d5a4-dc04038056ee"
      },
      "cell_type": "code",
      "source": [
        "from google.colab import drive\n",
        "drive.mount('/content/drive/')"
      ],
      "execution_count": 13,
      "outputs": [
        {
          "output_type": "stream",
          "text": [
            "Go to this URL in a browser: https://accounts.google.com/o/oauth2/auth?client_id=947318989803-6bn6qk8qdgf4n4g3pfee6491hc0brc4i.apps.googleusercontent.com&redirect_uri=urn%3Aietf%3Awg%3Aoauth%3A2.0%3Aoob&scope=email%20https%3A%2F%2Fwww.googleapis.com%2Fauth%2Fdocs.test%20https%3A%2F%2Fwww.googleapis.com%2Fauth%2Fdrive%20https%3A%2F%2Fwww.googleapis.com%2Fauth%2Fdrive.photos.readonly%20https%3A%2F%2Fwww.googleapis.com%2Fauth%2Fpeopleapi.readonly&response_type=code\n",
            "\n",
            "Enter your authorization code:\n",
            "··········\n",
            "Mounted at /content/drive/\n"
          ],
          "name": "stdout"
        }
      ]
    },
    {
      "metadata": {
        "id": "4qA9bp9y9Vd7",
        "colab_type": "code",
        "colab": {}
      },
      "cell_type": "code",
      "source": [
        "# Part 1 - Building the CNN\n",
        "\n",
        "# Importing the Keras libraries and packages\n",
        "from keras.models import Sequential\n",
        "from keras.layers import Convolution2D\n",
        "from keras.layers import MaxPooling2D\n",
        "from keras.layers import Flatten\n",
        "from keras.layers import Dense"
      ],
      "execution_count": 0,
      "outputs": []
    },
    {
      "metadata": {
        "id": "H6N4TKn7Nyz0",
        "colab_type": "code",
        "colab": {}
      },
      "cell_type": "code",
      "source": [
        "# Initialising the CNN\n",
        "classifier = Sequential()"
      ],
      "execution_count": 0,
      "outputs": []
    },
    {
      "metadata": {
        "id": "-_v6d4haN8KN",
        "colab_type": "code",
        "colab": {
          "base_uri": "https://localhost:8080/",
          "height": 71
        },
        "outputId": "7d2ea867-c9f8-4dc8-eb08-b883126aa48d"
      },
      "cell_type": "code",
      "source": [
        "# Step 1 - Convolution\n",
        "classifier.add(Convolution2D(32, 3, 3, input_shape = (64, 64, 3), activation = 'relu'))\n"
      ],
      "execution_count": 16,
      "outputs": [
        {
          "output_type": "stream",
          "text": [
            "/usr/local/lib/python3.6/dist-packages/ipykernel_launcher.py:1: UserWarning: Update your `Conv2D` call to the Keras 2 API: `Conv2D(32, (3, 3), input_shape=(64, 64, 3..., activation=\"relu\")`\n",
            "  \"\"\"Entry point for launching an IPython kernel.\n"
          ],
          "name": "stderr"
        }
      ]
    },
    {
      "metadata": {
        "id": "R25hHANhOAPg",
        "colab_type": "code",
        "colab": {}
      },
      "cell_type": "code",
      "source": [
        "# Step 2 - Pooling\n",
        "classifier.add(MaxPooling2D(pool_size = (2, 2)))\n"
      ],
      "execution_count": 0,
      "outputs": []
    },
    {
      "metadata": {
        "id": "nF27euN2OELL",
        "colab_type": "code",
        "colab": {
          "base_uri": "https://localhost:8080/",
          "height": 71
        },
        "outputId": "e2ddf34d-b1bf-43ef-b92f-72f65dde4ff7"
      },
      "cell_type": "code",
      "source": [
        "# Adding a second convolutional layer\n",
        "classifier.add(Convolution2D(32, 3, 3, activation = 'relu'))\n",
        "classifier.add(MaxPooling2D(pool_size = (2, 2)))\n"
      ],
      "execution_count": 18,
      "outputs": [
        {
          "output_type": "stream",
          "text": [
            "/usr/local/lib/python3.6/dist-packages/ipykernel_launcher.py:1: UserWarning: Update your `Conv2D` call to the Keras 2 API: `Conv2D(32, (3, 3), activation=\"relu\")`\n",
            "  \"\"\"Entry point for launching an IPython kernel.\n"
          ],
          "name": "stderr"
        }
      ]
    },
    {
      "metadata": {
        "id": "XW0XwxWgOIJR",
        "colab_type": "code",
        "colab": {}
      },
      "cell_type": "code",
      "source": [
        "# Step 3 - Flattening\n",
        "classifier.add(Flatten())\n"
      ],
      "execution_count": 0,
      "outputs": []
    },
    {
      "metadata": {
        "id": "5kL_D6XrOPnm",
        "colab_type": "code",
        "colab": {
          "base_uri": "https://localhost:8080/",
          "height": 105
        },
        "outputId": "be0a3126-f13e-40f5-8945-e2f93b0848be"
      },
      "cell_type": "code",
      "source": [
        "# Step 4 - Full connection\n",
        "classifier.add(Dense(output_dim = 128, activation = 'relu'))\n",
        "classifier.add(Dense(output_dim = 1, activation = 'sigmoid'))"
      ],
      "execution_count": 20,
      "outputs": [
        {
          "output_type": "stream",
          "text": [
            "/usr/local/lib/python3.6/dist-packages/ipykernel_launcher.py:1: UserWarning: Update your `Dense` call to the Keras 2 API: `Dense(activation=\"relu\", units=128)`\n",
            "  \"\"\"Entry point for launching an IPython kernel.\n",
            "/usr/local/lib/python3.6/dist-packages/ipykernel_launcher.py:2: UserWarning: Update your `Dense` call to the Keras 2 API: `Dense(activation=\"sigmoid\", units=1)`\n",
            "  \n"
          ],
          "name": "stderr"
        }
      ]
    },
    {
      "metadata": {
        "id": "OGYKczlvOcmh",
        "colab_type": "code",
        "colab": {}
      },
      "cell_type": "code",
      "source": [
        "# Compiling the CNN\n",
        "classifier.compile(optimizer = 'adam', loss = 'binary_crossentropy', metrics = ['accuracy'])\n"
      ],
      "execution_count": 0,
      "outputs": []
    },
    {
      "metadata": {
        "id": "YnpSMfh1Phyf",
        "colab_type": "code",
        "colab": {
          "base_uri": "https://localhost:8080/",
          "height": 972
        },
        "outputId": "69f84d4d-c39d-4601-ce43-59366917d446"
      },
      "cell_type": "code",
      "source": [
        "# Part 2 - Fitting the CNN to the images\n",
        "\n",
        "from keras.preprocessing.image import ImageDataGenerator\n",
        "\n",
        "train_datagen = ImageDataGenerator(rescale = 1./255,\n",
        "                                   shear_range = 0.2,\n",
        "                                   zoom_range = 0.2,\n",
        "                                   horizontal_flip = True)\n",
        "\n",
        "test_datagen = ImageDataGenerator(rescale = 1./255)\n",
        "\n",
        "training_set = train_datagen.flow_from_directory('/content/drive/My Drive/Apps/dataset/training_set',\n",
        "                                                 target_size = (64, 64),\n",
        "                                                 batch_size = 32,\n",
        "                                                 class_mode = 'binary')\n",
        "\n",
        "test_set = test_datagen.flow_from_directory('/content/drive/My Drive/Apps/dataset/test_set',\n",
        "                                            target_size = (64, 64),\n",
        "                                            batch_size = 32,\n",
        "                                            class_mode = 'binary')\n",
        "\n",
        "classifier.fit_generator(training_set,\n",
        "                         samples_per_epoch = 8000,\n",
        "                         nb_epoch = 25,\n",
        "                         validation_data = test_set,\n",
        "                         nb_val_samples = 2000)"
      ],
      "execution_count": 22,
      "outputs": [
        {
          "output_type": "stream",
          "text": [
            "Found 8010 images belonging to 2 classes.\n",
            "Found 2000 images belonging to 2 classes.\n"
          ],
          "name": "stdout"
        },
        {
          "output_type": "stream",
          "text": [
            "/usr/local/lib/python3.6/dist-packages/ipykernel_launcher.py:25: UserWarning: The semantics of the Keras 2 argument `steps_per_epoch` is not the same as the Keras 1 argument `samples_per_epoch`. `steps_per_epoch` is the number of batches to draw from the generator at each epoch. Basically steps_per_epoch = samples_per_epoch/batch_size. Similarly `nb_val_samples`->`validation_steps` and `val_samples`->`steps` arguments have changed. Update your method calls accordingly.\n",
            "/usr/local/lib/python3.6/dist-packages/ipykernel_launcher.py:25: UserWarning: Update your `fit_generator` call to the Keras 2 API: `fit_generator(<keras.pre..., validation_data=<keras.pre..., steps_per_epoch=250, epochs=25, validation_steps=2000)`\n"
          ],
          "name": "stderr"
        },
        {
          "output_type": "stream",
          "text": [
            "Epoch 1/25\n",
            "250/250 [==============================] - 2612s 10s/step - loss: 0.6749 - acc: 0.5675 - val_loss: 0.6236 - val_acc: 0.6648\n",
            "Epoch 2/25\n",
            "250/250 [==============================] - 330s 1s/step - loss: 0.6157 - acc: 0.6663 - val_loss: 0.6132 - val_acc: 0.6639\n",
            "Epoch 3/25\n",
            "250/250 [==============================] - 337s 1s/step - loss: 0.5652 - acc: 0.7073 - val_loss: 0.5690 - val_acc: 0.7020\n",
            "Epoch 4/25\n",
            "250/250 [==============================] - 330s 1s/step - loss: 0.5385 - acc: 0.7296 - val_loss: 0.5464 - val_acc: 0.7246\n",
            "Epoch 5/25\n",
            "250/250 [==============================] - 306s 1s/step - loss: 0.5089 - acc: 0.7483 - val_loss: 0.5091 - val_acc: 0.7545\n",
            "Epoch 6/25\n",
            "250/250 [==============================] - 334s 1s/step - loss: 0.4932 - acc: 0.7536 - val_loss: 0.4855 - val_acc: 0.7714\n",
            "Epoch 7/25\n",
            "250/250 [==============================] - 331s 1s/step - loss: 0.4624 - acc: 0.7842 - val_loss: 0.4739 - val_acc: 0.7718\n",
            "Epoch 8/25\n",
            "250/250 [==============================] - 335s 1s/step - loss: 0.4643 - acc: 0.7771 - val_loss: 0.4808 - val_acc: 0.7730\n",
            "Epoch 9/25\n",
            "250/250 [==============================] - 338s 1s/step - loss: 0.4442 - acc: 0.7919 - val_loss: 0.4883 - val_acc: 0.7696\n",
            "Epoch 10/25\n",
            "250/250 [==============================] - 335s 1s/step - loss: 0.4371 - acc: 0.7938 - val_loss: 0.4399 - val_acc: 0.8045\n",
            "Epoch 11/25\n",
            "250/250 [==============================] - 342s 1s/step - loss: 0.4170 - acc: 0.8058 - val_loss: 0.4570 - val_acc: 0.8009\n",
            "Epoch 12/25\n",
            "250/250 [==============================] - 340s 1s/step - loss: 0.4172 - acc: 0.8061 - val_loss: 0.4890 - val_acc: 0.7681\n",
            "Epoch 13/25\n",
            "250/250 [==============================] - 344s 1s/step - loss: 0.4083 - acc: 0.8076 - val_loss: 0.4332 - val_acc: 0.8105\n",
            "Epoch 14/25\n",
            "250/250 [==============================] - 345s 1s/step - loss: 0.3891 - acc: 0.8240 - val_loss: 0.4603 - val_acc: 0.8001\n",
            "Epoch 15/25\n",
            "250/250 [==============================] - 347s 1s/step - loss: 0.3907 - acc: 0.8196 - val_loss: 0.4476 - val_acc: 0.8024\n",
            "Epoch 16/25\n",
            "250/250 [==============================] - 339s 1s/step - loss: 0.3766 - acc: 0.8306 - val_loss: 0.4508 - val_acc: 0.8054\n",
            "Epoch 17/25\n",
            "250/250 [==============================] - 339s 1s/step - loss: 0.3687 - acc: 0.8328 - val_loss: 0.4683 - val_acc: 0.7862\n",
            "Epoch 18/25\n",
            "250/250 [==============================] - 329s 1s/step - loss: 0.3581 - acc: 0.8390 - val_loss: 0.5119 - val_acc: 0.7864\n",
            "Epoch 19/25\n",
            "250/250 [==============================] - 330s 1s/step - loss: 0.3425 - acc: 0.8463 - val_loss: 0.4442 - val_acc: 0.8007\n",
            "Epoch 20/25\n",
            "250/250 [==============================] - 344s 1s/step - loss: 0.3404 - acc: 0.8485 - val_loss: 0.4464 - val_acc: 0.8139\n",
            "Epoch 21/25\n",
            "250/250 [==============================] - 345s 1s/step - loss: 0.3358 - acc: 0.8526 - val_loss: 0.4470 - val_acc: 0.8135\n",
            "Epoch 22/25\n",
            "250/250 [==============================] - 350s 1s/step - loss: 0.3220 - acc: 0.8551 - val_loss: 0.4626 - val_acc: 0.8178\n",
            "Epoch 23/25\n",
            "250/250 [==============================] - 357s 1s/step - loss: 0.3110 - acc: 0.8625 - val_loss: 0.4783 - val_acc: 0.8014\n",
            "Epoch 24/25\n",
            "250/250 [==============================] - 357s 1s/step - loss: 0.3046 - acc: 0.8700 - val_loss: 0.4799 - val_acc: 0.8011\n",
            "Epoch 25/25\n",
            "250/250 [==============================] - 359s 1s/step - loss: 0.2923 - acc: 0.8720 - val_loss: 0.5075 - val_acc: 0.7948\n"
          ],
          "name": "stdout"
        },
        {
          "output_type": "execute_result",
          "data": {
            "text/plain": [
              "<keras.callbacks.History at 0x7f9f54cdaac8>"
            ]
          },
          "metadata": {
            "tags": []
          },
          "execution_count": 22
        }
      ]
    },
    {
      "metadata": {
        "id": "4snV8c8UQItI",
        "colab_type": "code",
        "colab": {}
      },
      "cell_type": "code",
      "source": [
        ""
      ],
      "execution_count": 0,
      "outputs": []
    }
  ]
}